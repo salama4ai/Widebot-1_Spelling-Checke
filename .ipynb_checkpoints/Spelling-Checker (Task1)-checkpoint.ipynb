{
 "cells": [
  {
   "cell_type": "code",
   "execution_count": 1,
   "id": "e0eb4d9d-190f-46a0-8a7a-9d9a700e32b8",
   "metadata": {},
   "outputs": [],
   "source": [
    "import pandas as pd"
   ]
  },
  {
   "cell_type": "code",
   "execution_count": 2,
   "id": "2c5306e1-748a-4d0e-a30c-7ab2a0486472",
   "metadata": {},
   "outputs": [
    {
     "data": {
      "text/html": [
       "<div>\n",
       "<style scoped>\n",
       "    .dataframe tbody tr th:only-of-type {\n",
       "        vertical-align: middle;\n",
       "    }\n",
       "\n",
       "    .dataframe tbody tr th {\n",
       "        vertical-align: top;\n",
       "    }\n",
       "\n",
       "    .dataframe thead th {\n",
       "        text-align: right;\n",
       "    }\n",
       "</style>\n",
       "<table border=\"1\" class=\"dataframe\">\n",
       "  <thead>\n",
       "    <tr style=\"text-align: right;\">\n",
       "      <th></th>\n",
       "      <th>words</th>\n",
       "    </tr>\n",
       "  </thead>\n",
       "  <tbody>\n",
       "    <tr>\n",
       "      <th>0</th>\n",
       "      <td>a</td>\n",
       "    </tr>\n",
       "    <tr>\n",
       "      <th>1</th>\n",
       "      <td>aa</td>\n",
       "    </tr>\n",
       "    <tr>\n",
       "      <th>2</th>\n",
       "      <td>aaa</td>\n",
       "    </tr>\n",
       "    <tr>\n",
       "      <th>3</th>\n",
       "      <td>aachen</td>\n",
       "    </tr>\n",
       "    <tr>\n",
       "      <th>4</th>\n",
       "      <td>aardvark</td>\n",
       "    </tr>\n",
       "  </tbody>\n",
       "</table>\n",
       "</div>"
      ],
      "text/plain": [
       "      words\n",
       "0         a\n",
       "1        aa\n",
       "2       aaa\n",
       "3    aachen\n",
       "4  aardvark"
      ]
     },
     "execution_count": 2,
     "metadata": {},
     "output_type": "execute_result"
    }
   ],
   "source": [
    "# Reading the file\n",
    "df = pd.read_csv('./resourses/dictionary.txt', encoding='unicode_escape', sep=\"\\n\", header=None, names=['words'])\n",
    "\n",
    "# # # another working method\n",
    "# df = pd.read_fwf('./resourses/dictionary.txt', encoding='unicode_escape', sep=\"\\n\", delimiter=\"\\n\", header=None, names=['words'])\n",
    "\n",
    "df.head()"
   ]
  },
  {
   "cell_type": "code",
   "execution_count": 3,
   "id": "652ab2c9-14d0-4674-8a91-eee55ace8e8e",
   "metadata": {},
   "outputs": [
    {
     "data": {
      "text/html": [
       "<div>\n",
       "<style scoped>\n",
       "    .dataframe tbody tr th:only-of-type {\n",
       "        vertical-align: middle;\n",
       "    }\n",
       "\n",
       "    .dataframe tbody tr th {\n",
       "        vertical-align: top;\n",
       "    }\n",
       "\n",
       "    .dataframe thead th {\n",
       "        text-align: right;\n",
       "    }\n",
       "</style>\n",
       "<table border=\"1\" class=\"dataframe\">\n",
       "  <thead>\n",
       "    <tr style=\"text-align: right;\">\n",
       "      <th></th>\n",
       "      <th>words</th>\n",
       "    </tr>\n",
       "  </thead>\n",
       "  <tbody>\n",
       "    <tr>\n",
       "      <th>84094</th>\n",
       "      <td>zymurgy</td>\n",
       "    </tr>\n",
       "    <tr>\n",
       "      <th>84095</th>\n",
       "      <td>clat</td>\n",
       "    </tr>\n",
       "    <tr>\n",
       "      <th>84096</th>\n",
       "      <td>lan</td>\n",
       "    </tr>\n",
       "    <tr>\n",
       "      <th>84097</th>\n",
       "      <td>migrs</td>\n",
       "    </tr>\n",
       "    <tr>\n",
       "      <th>84098</th>\n",
       "      <td>poque</td>\n",
       "    </tr>\n",
       "  </tbody>\n",
       "</table>\n",
       "</div>"
      ],
      "text/plain": [
       "         words\n",
       "84094  zymurgy\n",
       "84095    clat\n",
       "84096     lan\n",
       "84097  migrs\n",
       "84098   poque"
      ]
     },
     "execution_count": 3,
     "metadata": {},
     "output_type": "execute_result"
    }
   ],
   "source": [
    "df.tail()"
   ]
  },
  {
   "cell_type": "code",
   "execution_count": 4,
   "id": "c8ede8e3-bc41-4a0b-9fcc-136d6c320033",
   "metadata": {},
   "outputs": [
    {
     "data": {
      "text/plain": [
       "(84099, 1)"
      ]
     },
     "execution_count": 4,
     "metadata": {},
     "output_type": "execute_result"
    }
   ],
   "source": [
    "# df shape\n",
    "df.shape"
   ]
  },
  {
   "cell_type": "code",
   "execution_count": 43,
   "id": "d6b292aa-a6b5-4827-9e63-94c63d34b274",
   "metadata": {},
   "outputs": [
    {
     "data": {
      "text/plain": [
       "words    object\n",
       "dtype: object"
      ]
     },
     "execution_count": 43,
     "metadata": {},
     "output_type": "execute_result"
    }
   ],
   "source": [
    "df.dtypes"
   ]
  },
  {
   "cell_type": "code",
   "execution_count": 5,
   "id": "b73ae137-3c9d-4b84-9341-d17cbda91358",
   "metadata": {},
   "outputs": [
    {
     "data": {
      "text/plain": [
       "RangeIndex(start=0, stop=84099, step=1)"
      ]
     },
     "execution_count": 5,
     "metadata": {},
     "output_type": "execute_result"
    }
   ],
   "source": [
    "# df indecies\n",
    "df.index"
   ]
  },
  {
   "cell_type": "code",
   "execution_count": 6,
   "id": "bb42652a-f3d0-4e33-8b3a-dc8676660140",
   "metadata": {},
   "outputs": [
    {
     "data": {
      "text/html": [
       "<div>\n",
       "<style scoped>\n",
       "    .dataframe tbody tr th:only-of-type {\n",
       "        vertical-align: middle;\n",
       "    }\n",
       "\n",
       "    .dataframe tbody tr th {\n",
       "        vertical-align: top;\n",
       "    }\n",
       "\n",
       "    .dataframe thead th {\n",
       "        text-align: right;\n",
       "    }\n",
       "</style>\n",
       "<table border=\"1\" class=\"dataframe\">\n",
       "  <thead>\n",
       "    <tr style=\"text-align: right;\">\n",
       "      <th></th>\n",
       "      <th>words</th>\n",
       "    </tr>\n",
       "  </thead>\n",
       "  <tbody>\n",
       "    <tr>\n",
       "      <th>count</th>\n",
       "      <td>84097</td>\n",
       "    </tr>\n",
       "    <tr>\n",
       "      <th>unique</th>\n",
       "      <td>84097</td>\n",
       "    </tr>\n",
       "    <tr>\n",
       "      <th>top</th>\n",
       "      <td>a</td>\n",
       "    </tr>\n",
       "    <tr>\n",
       "      <th>freq</th>\n",
       "      <td>1</td>\n",
       "    </tr>\n",
       "  </tbody>\n",
       "</table>\n",
       "</div>"
      ],
      "text/plain": [
       "        words\n",
       "count   84097\n",
       "unique  84097\n",
       "top         a\n",
       "freq        1"
      ]
     },
     "execution_count": 6,
     "metadata": {},
     "output_type": "execute_result"
    }
   ],
   "source": [
    "# information about numerical columns\n",
    "df.describe()"
   ]
  },
  {
   "cell_type": "markdown",
   "id": "cd0a6ce3-de7e-4c11-8927-8ebccaf7ba5d",
   "metadata": {},
   "source": [
    "- all words are unique, and 2 dublicates"
   ]
  },
  {
   "cell_type": "code",
   "execution_count": 7,
   "id": "4c4db510-0e87-442b-920b-7dd412254cc3",
   "metadata": {},
   "outputs": [
    {
     "data": {
      "text/plain": [
       "84097"
      ]
     },
     "execution_count": 7,
     "metadata": {},
     "output_type": "execute_result"
    }
   ],
   "source": [
    "# number of unique rows\n",
    "df.words.nunique()"
   ]
  },
  {
   "cell_type": "code",
   "execution_count": 8,
   "id": "dd05f0e2-e832-4136-bf72-8327fdf70214",
   "metadata": {},
   "outputs": [
    {
     "data": {
      "text/plain": [
       "84097"
      ]
     },
     "execution_count": 8,
     "metadata": {},
     "output_type": "execute_result"
    }
   ],
   "source": [
    "# count of words\n",
    "df.words.count()"
   ]
  },
  {
   "cell_type": "markdown",
   "id": "32c364e7-e2cb-492f-8dfe-445cc2bae051",
   "metadata": {},
   "source": [
    "- there are 84097 out of 84099 words are not nan values, i.e there are 2 null values"
   ]
  },
  {
   "cell_type": "code",
   "execution_count": 9,
   "id": "f0bff4e2-28fc-4c20-b450-af6d11fdd406",
   "metadata": {},
   "outputs": [
    {
     "data": {
      "text/plain": [
       "words    2\n",
       "dtype: int64"
      ]
     },
     "execution_count": 9,
     "metadata": {},
     "output_type": "execute_result"
    }
   ],
   "source": [
    "# number of null values in each column\n",
    "df.isna().sum()"
   ]
  },
  {
   "cell_type": "markdown",
   "id": "f7302800-bdc7-4c63-87da-42147a0e5747",
   "metadata": {},
   "source": [
    "- there are 2 null values"
   ]
  },
  {
   "cell_type": "code",
   "execution_count": 20,
   "id": "8dc23e13-09c9-4ebe-8a18-502b485482a1",
   "metadata": {},
   "outputs": [
    {
     "data": {
      "text/html": [
       "<div>\n",
       "<style scoped>\n",
       "    .dataframe tbody tr th:only-of-type {\n",
       "        vertical-align: middle;\n",
       "    }\n",
       "\n",
       "    .dataframe tbody tr th {\n",
       "        vertical-align: top;\n",
       "    }\n",
       "\n",
       "    .dataframe thead th {\n",
       "        text-align: right;\n",
       "    }\n",
       "</style>\n",
       "<table border=\"1\" class=\"dataframe\">\n",
       "  <thead>\n",
       "    <tr style=\"text-align: right;\">\n",
       "      <th></th>\n",
       "      <th>words</th>\n",
       "    </tr>\n",
       "  </thead>\n",
       "  <tbody>\n",
       "    <tr>\n",
       "      <th>50019</th>\n",
       "      <td>NaN</td>\n",
       "    </tr>\n",
       "  </tbody>\n",
       "</table>\n",
       "</div>"
      ],
      "text/plain": [
       "      words\n",
       "50019   NaN"
      ]
     },
     "execution_count": 20,
     "metadata": {},
     "output_type": "execute_result"
    }
   ],
   "source": [
    "# the dublicated values\n",
    "df[df.duplicated()]"
   ]
  },
  {
   "cell_type": "code",
   "execution_count": 27,
   "id": "f28c3645-9e68-4a81-a548-95b328412aa6",
   "metadata": {},
   "outputs": [
    {
     "data": {
      "text/html": [
       "<div>\n",
       "<style scoped>\n",
       "    .dataframe tbody tr th:only-of-type {\n",
       "        vertical-align: middle;\n",
       "    }\n",
       "\n",
       "    .dataframe tbody tr th {\n",
       "        vertical-align: top;\n",
       "    }\n",
       "\n",
       "    .dataframe thead th {\n",
       "        text-align: right;\n",
       "    }\n",
       "</style>\n",
       "<table border=\"1\" class=\"dataframe\">\n",
       "  <thead>\n",
       "    <tr style=\"text-align: right;\">\n",
       "      <th></th>\n",
       "      <th>words</th>\n",
       "    </tr>\n",
       "  </thead>\n",
       "  <tbody>\n",
       "    <tr>\n",
       "      <th>48753</th>\n",
       "      <td>NaN</td>\n",
       "    </tr>\n",
       "    <tr>\n",
       "      <th>50019</th>\n",
       "      <td>NaN</td>\n",
       "    </tr>\n",
       "  </tbody>\n",
       "</table>\n",
       "</div>"
      ],
      "text/plain": [
       "      words\n",
       "48753   NaN\n",
       "50019   NaN"
      ]
     },
     "execution_count": 27,
     "metadata": {},
     "output_type": "execute_result"
    }
   ],
   "source": [
    "# the dublicated values and it's original\n",
    "df[df.duplicated(keep=False)]"
   ]
  },
  {
   "cell_type": "code",
   "execution_count": 36,
   "id": "544d5b45-fa68-45c8-ac69-3cc8cd6c671c",
   "metadata": {},
   "outputs": [],
   "source": [
    "# drop the null values\n",
    "# df.drop(df[df.words.isna()].index, axis=0, inplace=True)\n",
    "# df.drop_duplicates(subset=\"words\", inplace=True) # this line will not do the job as it will leave one null and drop the other nulls\n",
    "df.dropna(axis=0, inplace=True, how='all')"
   ]
  },
  {
   "cell_type": "code",
   "execution_count": 41,
   "id": "5f7f894b-d5fb-44c7-aa73-7cc3329dada4",
   "metadata": {},
   "outputs": [
    {
     "data": {
      "text/plain": [
       "(84097, 1)"
      ]
     },
     "execution_count": 41,
     "metadata": {},
     "output_type": "execute_result"
    }
   ],
   "source": [
    "# after deleting the 2 null words, number of rows reduced by 2\n",
    "df.shape"
   ]
  },
  {
   "cell_type": "code",
   "execution_count": 42,
   "id": "3e1855b6-18cc-450c-a86c-fea39fad6dfd",
   "metadata": {},
   "outputs": [
    {
     "name": "stdout",
     "output_type": "stream",
     "text": [
      "<class 'pandas.core.frame.DataFrame'>\n",
      "Int64Index: 84097 entries, 0 to 84098\n",
      "Data columns (total 1 columns):\n",
      " #   Column  Non-Null Count  Dtype \n",
      "---  ------  --------------  ----- \n",
      " 0   words   84097 non-null  object\n",
      "dtypes: object(1)\n",
      "memory usage: 1.3+ MB\n"
     ]
    }
   ],
   "source": [
    "# general info about columns of the data in our hand\n",
    "df.info()"
   ]
  },
  {
   "cell_type": "code",
   "execution_count": null,
   "id": "6c784498-9708-4816-ad2d-acd1a035cc04",
   "metadata": {},
   "outputs": [],
   "source": []
  },
  {
   "cell_type": "code",
   "execution_count": null,
   "id": "929ee69f-6cdd-48cb-af1f-4291ad54eb18",
   "metadata": {},
   "outputs": [],
   "source": []
  },
  {
   "cell_type": "code",
   "execution_count": null,
   "id": "e5b12392-9c4b-40a8-ba03-42b29e9a9a7a",
   "metadata": {},
   "outputs": [],
   "source": [
    "class spellChecker():\n",
    "    ''' this class make 3 main operations:-\n",
    "        1- (store_dict) Store this dictionary in a suitable data structure \n",
    "        2- Take an input word and return the nearest 4 words if this word is not in the dictionary\n",
    "        3- Take an input word and add this word to the dictionary\n",
    "        '''\n",
    "    def init(self, file='./resourses/dictionary.txt'):\n",
    "        self.file = file\n",
    "        self.sored_file = store_dict(self.file)\n",
    "        \n",
    "    \n",
    "    def store_dict(self.file):\n",
    "        '''method to store the given dictionary'''\n",
    "        \n",
    "        return sored_file\n",
    "    \n",
    "    def nearest_4_words(self.sored_file):\n",
    "        '''this method is to return the nearest words if this word is not in the dictionary\n",
    "           Note:- the nearest 4 words from a word are the 2 words before and after this word \n",
    "           in lexicographic order if they exist'''\n",
    "        \n",
    "        pass\n",
    "    \n",
    "    def add_word(self.sored_file)\n",
    "        '''this method is to add a word into the dictionary'''\n",
    "        \n",
    "        # firstly check if the word is already exists\n",
    "        pass\n",
    "    "
   ]
  }
 ],
 "metadata": {
  "kernelspec": {
   "display_name": "Python 3 (ipykernel)",
   "language": "python",
   "name": "python3"
  },
  "language_info": {
   "codemirror_mode": {
    "name": "ipython",
    "version": 3
   },
   "file_extension": ".py",
   "mimetype": "text/x-python",
   "name": "python",
   "nbconvert_exporter": "python",
   "pygments_lexer": "ipython3",
   "version": "3.9.7"
  }
 },
 "nbformat": 4,
 "nbformat_minor": 5
}
